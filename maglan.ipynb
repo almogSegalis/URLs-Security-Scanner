{
 "cells": [
  {
   "cell_type": "code",
   "execution_count": 5,
   "metadata": {},
   "outputs": [],
   "source": [
    "import requests\n",
    "import json\n",
    "from datetime import datetime\n",
    "import pandas as pd\n",
    "import argparse\n",
    "\n",
    "url_to_scean = \"\"\n",
    "\n",
    "\n",
    "\n",
    "with open('url_file', mode='r') as file:\n",
    "    for line in file:\n",
    "        url_to_scean = line.strip('\\n')\n",
    "\n",
    "# A GET request to the API\n",
    "response = requests.get(url_to_scean)\n",
    "\n",
    "response_headers = response.headers\n",
    "\n",
    "def check_header(header):\n",
    "    counter = 0\n",
    "    msg = []\n",
    "    if 'Content-security-policy' in response_headers:\n",
    "        counter+=1\n",
    "        msg = [\"(V) Content-security-policy\"]\n",
    "\n",
    "    if 'X-Frame-Options' in response_headers:\n",
    "        if 'X-Frame-Options' == 'strict-origin-when-cross-origin':\n",
    "            counter+=1\n",
    "            msg += ['(V) X-Frame-Options == strict-origin-when-cross-origin']\n",
    "            \n",
    "\n",
    "    if 'Referrer-Policy' in response_headers:\n",
    "        if 'Referrer-Policy' == 'strict-origin-when-cross-origin':\n",
    "            counter+=1\n",
    "            msg += ['(V) Referrer-Policy = strict-origin-when-cross-origin']\n",
    "\n",
    "    if 'X-Content-Type-Options' in response_headers:\n",
    "        counter+=1\n",
    "        msg += ['(V) X-Content-Type-Options']\n",
    "\n",
    "    if 'Permissions-Policy' in response_headers:\n",
    "        counter+=1\n",
    "        msg += ['(V) Permissions-Policy']\n",
    "    \n",
    "    return counter, msg\n",
    "\n",
    "\n",
    "counter, msg = check_header(response_headers)\n",
    "\n",
    "info_dict = {}\n",
    "info_dict['url'] = url_to_scean\n",
    "info_dict['security score'] = counter\n",
    "info_dict['reason'] = msg\n",
    "info_dict['time'] = datetime.now().strftime(\"%d/%m/%Y %H:%M:%S\")\n",
    "\n",
    "df = pd.DataFrame(info_dict)\n",
    "df.to_csv('output_file.csv')\n",
    "\n",
    "with open('output.json', mode='w') as file:\n",
    "    json.dump(info_dict, file)\n",
    "\n"
   ]
  },
  {
   "cell_type": "code",
   "execution_count": 8,
   "metadata": {},
   "outputs": [
    {
     "name": "stderr",
     "output_type": "stream",
     "text": [
      "usage: ipykernel_launcher.py [-h] --url URL\n",
      "ipykernel_launcher.py: error: the following arguments are required: --url\n"
     ]
    },
    {
     "ename": "SystemExit",
     "evalue": "2",
     "output_type": "error",
     "traceback": [
      "An exception has occurred, use %tb to see the full traceback.\n",
      "\u001b[0;31mSystemExit\u001b[0m\u001b[0;31m:\u001b[0m 2\n"
     ]
    }
   ],
   "source": [
    "import argparse\n",
    "# Create the parser\n",
    "parser = argparse.ArgumentParser()\n",
    "\n",
    "# Add an argument\n",
    "parser.add_argument('url_to_scean', type=int, help='The url to scean')\n",
    "args = parser.parse_args()\n",
    "\n",
    "# Print the argument\n",
    "print(args.url)"
   ]
  },
  {
   "cell_type": "code",
   "execution_count": 10,
   "metadata": {},
   "outputs": [
    {
     "name": "stdout",
     "output_type": "stream",
     "text": [
      "['https://www.nike.com/il/', 'https://securityheaders.com/']\n"
     ]
    }
   ],
   "source": [
    "#!/usr/bin/env python\n",
    "import requests\n",
    "import json\n",
    "from datetime import datetime\n",
    "import pandas as pd\n",
    "import argparse\n",
    "import validators\n",
    "import os.path\n",
    "\n",
    "with open(\"url_file\", mode='r') as file:\n",
    "                url_to_scan = []\n",
    "                for line in file:\n",
    "                    url_to_scan += [line.strip('\\n')]\n",
    "                print(url_to_scan)\n",
    "                "
   ]
  },
  {
   "cell_type": "code",
   "execution_count": 18,
   "metadata": {},
   "outputs": [
    {
     "data": {
      "text/plain": [
       "True"
      ]
     },
     "execution_count": 18,
     "metadata": {},
     "output_type": "execute_result"
    }
   ],
   "source": [
    "def check_if_url(input):\n",
    "    \n",
    "    url = input.split(' ',1)[0]\n",
    "    if validators.url(url):\n",
    "        return True\n",
    "    else:\n",
    "        return False\n",
    "\n",
    "check_if_url('https://securityheaders.com/')"
   ]
  }
 ],
 "metadata": {
  "kernelspec": {
   "display_name": "base",
   "language": "python",
   "name": "python3"
  },
  "language_info": {
   "codemirror_mode": {
    "name": "ipython",
    "version": 3
   },
   "file_extension": ".py",
   "mimetype": "text/x-python",
   "name": "python",
   "nbconvert_exporter": "python",
   "pygments_lexer": "ipython3",
   "version": "3.9.13"
  },
  "orig_nbformat": 4,
  "vscode": {
   "interpreter": {
    "hash": "40d3a090f54c6569ab1632332b64b2c03c39dcf918b08424e98f38b5ae0af88f"
   }
  }
 },
 "nbformat": 4,
 "nbformat_minor": 2
}
