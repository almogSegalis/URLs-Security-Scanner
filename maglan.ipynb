{
 "cells": [
  {
   "cell_type": "code",
   "execution_count": 3,
   "metadata": {},
   "outputs": [],
   "source": [
    "import requests\n",
    "import json\n",
    "from datetime import datetime\n",
    "import pandas as pd\n",
    "\n",
    "\n",
    "url_to_scean = \"\"\n",
    "\n",
    "with open('url_file', mode='r') as file:\n",
    "    for line in file:\n",
    "        url_to_scean = line.strip('\\n')\n",
    "\n",
    "# A GET request to the API\n",
    "response = requests.get(url_to_scean)\n",
    "\n",
    "response_headers = response.headers\n",
    "\n",
    "def check_header(header):\n",
    "    counter = 0\n",
    "    msg = []\n",
    "    if 'Content-security-policy' in response_headers:\n",
    "        counter+=1\n",
    "        msg = [\"Content-security-policy is present in the headers\"]\n",
    "\n",
    "    if 'X-Frame-Options' in response_headers:\n",
    "        if 'X-Frame-Options' == 'strict-origin-when-cross-origin':\n",
    "            counter+=1\n",
    "            msg += ['X-Frame-Options = strict-origin-when-cross-origin']\n",
    "            \n",
    "\n",
    "    if 'Referrer-Policy' in response_headers:\n",
    "        if 'Referrer-Policy' == 'strict-origin-when-cross-origin':\n",
    "            counter+=1\n",
    "            msg += ['Referrer-Policy = strict-origin-when-cross-origin']\n",
    "\n",
    "    if 'X-Content-Type-Options' in response_headers:\n",
    "        counter+=1\n",
    "        msg += ['X-Content-Type-Options is present in the headers']\n",
    "\n",
    "    if 'Permissions-Policy' in response_headers:\n",
    "        counter+=1\n",
    "        msg += ['Permissions-Policy is present in the headers']\n",
    "    \n",
    "    return counter, msg\n",
    "\n",
    "\n",
    "counter, msg = check_header(response_headers)\n",
    "\n",
    "info_dict = {}\n",
    "info_dict['url'] = url_to_scean\n",
    "info_dict['security_score'] = counter\n",
    "info_dict['reason'] = msg\n",
    "info_dict['time'] = datetime.now().strftime(\"%d/%m/%Y %H:%M:%S\")\n",
    "\n",
    "df = pd.DataFrame(info_dict)\n",
    "df.to_csv('output_file.csv')\n",
    "\n",
    "with open('output.json', mode='w') as file:\n",
    "    json.dumps(info_dict, file)\n",
    "\n",
    "\n"
   ]
  },
  {
   "cell_type": "code",
   "execution_count": null,
   "metadata": {},
   "outputs": [],
   "source": []
  }
 ],
 "metadata": {
  "kernelspec": {
   "display_name": "base",
   "language": "python",
   "name": "python3"
  },
  "language_info": {
   "codemirror_mode": {
    "name": "ipython",
    "version": 3
   },
   "file_extension": ".py",
   "mimetype": "text/x-python",
   "name": "python",
   "nbconvert_exporter": "python",
   "pygments_lexer": "ipython3",
   "version": "3.9.13"
  },
  "orig_nbformat": 4,
  "vscode": {
   "interpreter": {
    "hash": "40d3a090f54c6569ab1632332b64b2c03c39dcf918b08424e98f38b5ae0af88f"
   }
  }
 },
 "nbformat": 4,
 "nbformat_minor": 2
}
